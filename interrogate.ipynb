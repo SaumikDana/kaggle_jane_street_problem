{
 "cells": [
  {
   "cell_type": "code",
   "execution_count": null,
   "metadata": {},
   "outputs": [],
   "source": [
    "# Training dataset\n",
    "import pandas as pd\n",
    "import os\n",
    "from data_engineering import create_timeseries_for_symbol, prepare_regression_data, clean_data\n",
    "from pca import reduce_dimensions_pca\n",
    "\n",
    "if __name__ == \"__main__\":\n",
    "\n",
    "    output_dir = \"symbol_data\"\n",
    "    symbol_id = 0\n",
    "    csv_path = os.path.join(output_dir, f\"symbol_{symbol_id}.csv\")\n",
    "    df = pd.read_csv(csv_path)\n",
    "\n",
    "    features, responders, target = create_timeseries_for_symbol(df, symbol_id)\n",
    "    clean_features, clean_responders = clean_data(features, responders)\n",
    "\n",
    "    X, y = prepare_regression_data(clean_features, clean_responders, target=target)\n",
    "\n",
    "    # For specific number of components:\n",
    "    X_reduced, pca, scaler = reduce_dimensions_pca(X, n_components=25)\n"
   ]
  },
  {
   "cell_type": "code",
   "execution_count": null,
   "metadata": {},
   "outputs": [],
   "source": [
    "# Test dataset\n",
    "from data_engineering import clean_data\n",
    "\n",
    "if __name__ == \"__main__\":\n",
    "    features = pd.read_parquet(\"test.parquet/date_id=0/part-0.parquet\")\n",
    "    responders = pd.read_parquet(\"lags.parquet/date_id=0/part-0.parquet\")\n",
    "\n",
    "    features_for_symbol = features[features['symbol_id'] == symbol_id].copy()\n",
    "    symbol_features = features_for_symbol.sort_values(['date_id', 'time_id'])\n",
    "\n",
    "    responders_for_symbol = responders[responders['symbol_id'] == symbol_id].copy()\n",
    "    symbol_responders = responders_for_symbol.sort_values(['date_id', 'time_id'])\n",
    "\n",
    "    clean_features, clean_responders = clean_data(symbol_features, symbol_responders)\n",
    "\n",
    "    X = prepare_regression_data(clean_features, clean_responders)\n",
    "\n",
    "    # For specific number of components:\n",
    "    X_reduced, pca, scaler = reduce_dimensions_pca(X, n_components=25)\n"
   ]
  }
 ],
 "metadata": {
  "kernelspec": {
   "display_name": "Python3 (myenv)",
   "language": "python",
   "name": "myenv"
  },
  "language_info": {
   "codemirror_mode": {
    "name": "ipython",
    "version": 3
   },
   "file_extension": ".py",
   "mimetype": "text/x-python",
   "name": "python",
   "nbconvert_exporter": "python",
   "pygments_lexer": "ipython3",
   "version": "3.12.7"
  }
 },
 "nbformat": 4,
 "nbformat_minor": 2
}
