{
 "cells": [
  {
   "cell_type": "code",
   "execution_count": 1,
   "metadata": {},
   "outputs": [
    {
     "name": "stdout",
     "output_type": "stream",
     "text": [
      "Features metadata:\n",
      "      feature  tag_0  tag_1  tag_2  tag_3  tag_4  tag_5  tag_6  tag_7  tag_8  \\\n",
      "0  feature_00  False  False   True  False  False  False  False  False  False   \n",
      "1  feature_01  False  False   True  False  False  False  False  False  False   \n",
      "2  feature_02  False  False   True  False  False  False  False  False  False   \n",
      "3  feature_03  False  False   True  False  False  False  False  False  False   \n",
      "4  feature_04  False  False   True  False  False  False  False  False  False   \n",
      "\n",
      "   tag_9  tag_10  tag_11  tag_12  tag_13  tag_14  tag_15  tag_16  \n",
      "0  False   False   False   False   False    True   False    True  \n",
      "1  False   False   False   False    True    True   False    True  \n",
      "2  False   False   False    True   False   False   False    True  \n",
      "3  False   False   False   False    True   False   False    True  \n",
      "4  False   False   False    True    True   False   False    True  \n",
      "\n",
      "Responders metadata:\n",
      "     responder  tag_0  tag_1  tag_2  tag_3  tag_4\n",
      "0  responder_0   True  False   True  False  False\n",
      "1  responder_1   True  False  False   True  False\n",
      "2  responder_2   True   True  False  False  False\n",
      "3  responder_3  False  False   True  False   True\n",
      "4  responder_4  False  False  False   True   True\n"
     ]
    }
   ],
   "source": [
    "import pandas as pd\n",
    "\n",
    "# Look at features metadata\n",
    "features_df = pd.read_csv('features.csv')\n",
    "print(\"Features metadata:\")\n",
    "print(features_df.head())\n",
    "\n",
    "# Look at responders metadata\n",
    "responders_df = pd.read_csv('responders.csv')\n",
    "print(\"\\nResponders metadata:\")\n",
    "print(responders_df.head())"
   ]
  }
 ],
 "metadata": {
  "kernelspec": {
   "display_name": "Python3 (myenv)",
   "language": "python",
   "name": "myenv"
  },
  "language_info": {
   "codemirror_mode": {
    "name": "ipython",
    "version": 3
   },
   "file_extension": ".py",
   "mimetype": "text/x-python",
   "name": "python",
   "nbconvert_exporter": "python",
   "pygments_lexer": "ipython3",
   "version": "3.12.7"
  }
 },
 "nbformat": 4,
 "nbformat_minor": 2
}
