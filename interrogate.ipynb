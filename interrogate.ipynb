{
 "cells": [
  {
   "cell_type": "code",
   "execution_count": 1,
   "metadata": {},
   "outputs": [
    {
     "name": "stdout",
     "output_type": "stream",
     "text": [
      "\n",
      "Feature series shape: (1467617, 79)\n",
      "\n",
      "Responder series shape: (1467617, 8)\n",
      "\n",
      "Target series shape: (1467617,)\n",
      "\n",
      "Total feature columns before cleaning: 79\n",
      "Total responder columns before cleaning: 8\n",
      "\n",
      "Feature columns dropped due to NaN values:\n",
      "- feature_00\n",
      "- feature_01\n",
      "- feature_02\n",
      "- feature_03\n",
      "- feature_04\n",
      "- feature_08\n",
      "- feature_15\n",
      "- feature_17\n",
      "- feature_21\n",
      "- feature_26\n",
      "- feature_27\n",
      "- feature_31\n",
      "- feature_32\n",
      "- feature_33\n",
      "- feature_39\n",
      "- feature_40\n",
      "- feature_41\n",
      "- feature_42\n",
      "- feature_43\n",
      "- feature_44\n",
      "- feature_45\n",
      "- feature_46\n",
      "- feature_50\n",
      "- feature_51\n",
      "- feature_52\n",
      "- feature_53\n",
      "- feature_54\n",
      "- feature_55\n",
      "- feature_58\n",
      "- feature_62\n",
      "- feature_63\n",
      "- feature_64\n",
      "- feature_65\n",
      "- feature_66\n",
      "- feature_73\n",
      "- feature_74\n",
      "- feature_75\n",
      "- feature_76\n",
      "- feature_77\n",
      "- feature_78\n",
      "\n",
      "Number of clean features: 39\n",
      "Number of clean responders: 8\n",
      "\n",
      "Regression data shapes:\n",
      "X shape: (1467617, 47) (samples, features+responders)\n",
      "y shape: (1467617,)\n"
     ]
    }
   ],
   "source": [
    "# Training dataset\n",
    "import pandas as pd\n",
    "import os\n",
    "from data_engineering import create_timeseries_for_symbol, prepare_regression_data\n",
    "\n",
    "if __name__ == \"__main__\":\n",
    "\n",
    "    output_dir = \"symbol_data\"\n",
    "    symbol_id = 0\n",
    "    csv_path = os.path.join(output_dir, f\"symbol_{symbol_id}.csv\")\n",
    "    df = pd.read_csv(csv_path)\n",
    "\n",
    "    features, responders, target = create_timeseries_for_symbol(df, symbol_id)\n",
    "    X, y = prepare_regression_data(features, responders, target)\n"
   ]
  },
  {
   "cell_type": "code",
   "execution_count": 2,
   "metadata": {},
   "outputs": [
    {
     "name": "stdout",
     "output_type": "stream",
     "text": [
      "\n",
      "Total feature columns before cleaning: 85\n",
      "Total responder columns before cleaning: 12\n",
      "\n",
      "Feature columns dropped due to NaN values:\n",
      "- feature_15\n",
      "- feature_17\n",
      "- feature_32\n",
      "- feature_33\n",
      "- feature_39\n",
      "- feature_41\n",
      "- feature_42\n",
      "- feature_44\n",
      "- feature_50\n",
      "- feature_52\n",
      "- feature_53\n",
      "- feature_55\n",
      "- feature_58\n",
      "- feature_73\n",
      "- feature_74\n",
      "\n",
      "Number of clean features: 70\n",
      "Number of clean responders: 12\n"
     ]
    }
   ],
   "source": [
    "# Test dataset\n",
    "from data_engineering import clean_data\n",
    "\n",
    "if __name__ == \"__main__\":\n",
    "    features = pd.read_parquet(\"test.parquet/date_id=0/part-0.parquet\")\n",
    "    responders = pd.read_parquet(\"lags.parquet/date_id=0/part-0.parquet\")\n",
    "\n",
    "    features_for_symbol = features[features['symbol_id'] == symbol_id].copy()\n",
    "    symbol_features = features_for_symbol.sort_values(['date_id', 'time_id'])\n",
    "\n",
    "    responders_for_symbol = responders[responders['symbol_id'] == symbol_id].copy()\n",
    "    symbol_responders = responders_for_symbol.sort_values(['date_id', 'time_id'])\n",
    "\n",
    "    clean_features, clean_responders = clean_data(symbol_features, symbol_responders)\n"
   ]
  }
 ],
 "metadata": {
  "kernelspec": {
   "display_name": "Python3 (myenv)",
   "language": "python",
   "name": "myenv"
  },
  "language_info": {
   "codemirror_mode": {
    "name": "ipython",
    "version": 3
   },
   "file_extension": ".py",
   "mimetype": "text/x-python",
   "name": "python",
   "nbconvert_exporter": "python",
   "pygments_lexer": "ipython3",
   "version": "3.12.7"
  }
 },
 "nbformat": 4,
 "nbformat_minor": 2
}
