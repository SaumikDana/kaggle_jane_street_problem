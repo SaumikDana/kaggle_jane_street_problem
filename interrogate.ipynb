{
 "cells": [
  {
   "cell_type": "code",
   "execution_count": 1,
   "metadata": {},
   "outputs": [
    {
     "name": "stdout",
     "output_type": "stream",
     "text": [
      "\n",
      "List of symbols in training dataset ...\n",
      "\n",
      "[np.int8(0), np.int8(1), np.int8(2), np.int8(3), np.int8(4), np.int8(5), np.int8(6), np.int8(7), np.int8(8), np.int8(9), np.int8(10), np.int8(11), np.int8(12), np.int8(13), np.int8(14), np.int8(15), np.int8(16), np.int8(17), np.int8(18), np.int8(19), np.int8(20), np.int8(21), np.int8(22), np.int8(23), np.int8(24), np.int8(25), np.int8(26), np.int8(27), np.int8(28), np.int8(29), np.int8(30), np.int8(31), np.int8(32), np.int8(33), np.int8(34), np.int8(35), np.int8(36), np.int8(37), np.int8(38)]\n",
      "\n",
      "List of symbols in tess dataset ...\n",
      "\n",
      "[np.int8(0), np.int8(1), np.int8(2), np.int8(3), np.int8(4), np.int8(5), np.int8(6), np.int8(7), np.int8(8), np.int8(9), np.int8(10), np.int8(11), np.int8(12), np.int8(13), np.int8(14), np.int8(15), np.int8(16), np.int8(17), np.int8(18), np.int8(19), np.int8(20), np.int8(21), np.int8(22), np.int8(23), np.int8(24), np.int8(25), np.int8(26), np.int8(27), np.int8(28), np.int8(29), np.int8(30), np.int8(31), np.int8(32), np.int8(33), np.int8(34), np.int8(35), np.int8(36), np.int8(37), np.int8(38)]\n"
     ]
    }
   ],
   "source": [
    "import pandas as pd\n",
    "\n",
    "if __name__ == \"__main__\":\n",
    "    # First get all unique symbols across all partitions\n",
    "    all_symbols = set()\n",
    "    for partition in range(10):\n",
    "        partition_path = f\"train.parquet/partition_id={partition}/part-0.parquet\"\n",
    "        df_partition = pd.read_parquet(partition_path)\n",
    "        all_symbols.update(df_partition['symbol_id'].unique())\n",
    "    \n",
    "    list_of_symbols = list(all_symbols)\n",
    "    print(\"\\nList of symbols in training dataset ...\\n\")\n",
    "    print(list_of_symbols)\n",
    "\n",
    "    # Load test data\n",
    "    all_symbols = set()\n",
    "\n",
    "    features = pd.read_parquet(\"test.parquet/date_id=0/part-0.parquet\")\n",
    "    all_symbols.update(features['symbol_id'].unique())\n",
    "\n",
    "    responders = pd.read_parquet(\"lags.parquet/date_id=0/part-0.parquet\")\n",
    "    all_symbols.update(responders['symbol_id'].unique())\n",
    "\n",
    "    list_of_symbols = list(all_symbols)\n",
    "    print(\"\\nList of symbols in test dataset ...\\n\")\n",
    "    print(list_of_symbols)\n",
    "\n"
   ]
  }
 ],
 "metadata": {
  "kernelspec": {
   "display_name": "Python3 (myenv)",
   "language": "python",
   "name": "myenv"
  },
  "language_info": {
   "codemirror_mode": {
    "name": "ipython",
    "version": 3
   },
   "file_extension": ".py",
   "mimetype": "text/x-python",
   "name": "python",
   "nbconvert_exporter": "python",
   "pygments_lexer": "ipython3",
   "version": "3.12.7"
  }
 },
 "nbformat": 4,
 "nbformat_minor": 2
}
