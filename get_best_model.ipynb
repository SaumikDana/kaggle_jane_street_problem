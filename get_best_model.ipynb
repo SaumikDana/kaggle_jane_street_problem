{
 "cells": [
  {
   "cell_type": "code",
   "execution_count": null,
   "metadata": {},
   "outputs": [],
   "source": [
    "import pandas as pd\n",
    "import numpy as np\n",
    "from methods import prepare_regression_data, train_and_evaluate_multiple_models, create_timeseries_for_symbol\n",
    "\n",
    "# Example usage\n",
    "if __name__ == \"__main__\":\n",
    "    # Load and prepare data\n",
    "    df = pd.read_parquet(\"train.parquet/partition_id=0/part-0.parquet\")\n",
    "    symbol_id = df['symbol_id'].unique()[0]\n",
    "    features, responders, target = create_timeseries_for_symbol(df, symbol_id)\n",
    "    X, y = prepare_regression_data(features, responders, target)\n",
    "    \n",
    "    # Train and evaluate multiple models\n",
    "    results = train_and_evaluate_multiple_models(X, y)"
   ]
  }
 ],
 "metadata": {
  "kernelspec": {
   "display_name": "Python3 (myenv)",
   "language": "python",
   "name": "myenv"
  },
  "language_info": {
   "name": "python",
   "version": "3.12.7"
  }
 },
 "nbformat": 4,
 "nbformat_minor": 2
}
