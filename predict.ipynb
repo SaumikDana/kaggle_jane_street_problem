{
 "cells": [
  {
   "cell_type": "code",
   "execution_count": null,
   "metadata": {},
   "outputs": [],
   "source": [
    "import pandas as pd\n",
    "import os\n",
    "from data_engineering import create_timeseries_for_symbol, prepare_regression_data, clean_data, prepare_prediction_data\n",
    "from models import train_best_xgboost_model, evaluate_best_model\n",
    "from pca import reduce_dimensions_pca\n",
    "\n",
    "if __name__ == \"__main__\":\n",
    "    output_dir = \"symbol_data\"\n",
    "    # Initialize empty DataFrame to store all predictions\n",
    "    all_predictions = pd.DataFrame(columns=['row_id', 'responder_6'])\n",
    "    \n",
    "    # Load test data\n",
    "    features_test = pd.read_parquet(\"test.parquet/date_id=0/part-0.parquet\")\n",
    "    responders_test = pd.read_parquet(\"lags.parquet/date_id=0/part-0.parquet\")\n",
    "    \n",
    "    for symbol_id in range(39):\n",
    "        csv_path = os.path.join(output_dir, f\"symbol_{symbol_id}.csv\")\n",
    "        df = pd.read_csv(csv_path)\n",
    "        print(f\"\\nTraining and Evaluating for symbol {symbol_id} ...\")\n",
    "        \n",
    "        features, responders, target = create_timeseries_for_symbol(df, symbol_id)\n",
    "        clean_features, clean_responders = clean_data(features, responders)\n",
    "        X, y = prepare_regression_data(clean_features, clean_responders, target)\n",
    "        \n",
    "        # For specific number of components:\n",
    "        X_reduced, pca, scaler = reduce_dimensions_pca(X.values, n_components=25)\n",
    "        \n",
    "        # Train and evaluate model\n",
    "        model, X_train, X_test, y_train, y_test = train_best_xgboost_model(X_reduced, y)\n",
    "        evaluate_best_model(model, X_train, X_test, y_train, y_test)\n",
    "        \n",
    "        symbol_features = features_test[features_test['symbol_id'] == symbol_id].copy()\n",
    "        row_id = symbol_features['row_id'].values[0]\n",
    "        symbol_responders = responders_test[responders_test['symbol_id'] == symbol_id].copy()\n",
    "        X_test = prepare_prediction_data(symbol_features, symbol_responders)\n",
    "        \n",
    "        # In test:\n",
    "        X_test_scaled = scaler.transform(X_test[X.columns].values)  # use training scaler\n",
    "        X_test_reduced = pca.transform(X_test_scaled)  # use training PCA\n",
    "        \n",
    "        # Make prediction and create temporary DataFrame\n",
    "        prediction = model.predict(X_test_reduced)\n",
    "        temp_df = pd.DataFrame({\n",
    "            'row_id': [row_id],\n",
    "            'responder_6': prediction\n",
    "        })\n",
    "        \n",
    "        # Append to main DataFrame\n",
    "        all_predictions = pd.concat([all_predictions, temp_df], ignore_index=True)\n",
    "    \n",
    "    # Sort by row_id if needed\n",
    "    all_predictions = all_predictions.sort_values('row_id').reset_index(drop=True)\n",
    "        \n",
    "    print(\"\\nPredictions DataFrame shape:\", all_predictions.shape)\n",
    "    print(all_predictions.head())"
   ]
  }
 ],
 "metadata": {
  "kernelspec": {
   "display_name": "Python3 (myenv)",
   "language": "python",
   "name": "myenv"
  },
  "language_info": {
   "codemirror_mode": {
    "name": "ipython",
    "version": 3
   },
   "file_extension": ".py",
   "mimetype": "text/x-python",
   "name": "python",
   "nbconvert_exporter": "python",
   "pygments_lexer": "ipython3",
   "version": "3.12.7"
  }
 },
 "nbformat": 4,
 "nbformat_minor": 2
}
