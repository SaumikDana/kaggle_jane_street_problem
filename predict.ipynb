{
 "cells": [
  {
   "cell_type": "code",
   "execution_count": null,
   "metadata": {},
   "outputs": [],
   "source": [
    "import pandas as pd\n",
    "import os\n",
    "from data_engineering import create_timeseries_for_symbol, prepare_regression_data\n",
    "from models import train_best_xgboost_model, evaluate_best_model\n",
    "\n",
    "if __name__ == \"__main__\":\n",
    "\n",
    "    output_dir = \"symbol_data\"\n",
    "    symbol_id = 0\n",
    "    csv_path = os.path.join(output_dir, f\"symbol_{symbol_id}.csv\")\n",
    "    df = pd.read_csv(csv_path)\n",
    "\n",
    "    print(f\"\\nTraining and Evaluating for symbol {symbol_id} ...\")\n",
    "    features, responders, target = create_timeseries_for_symbol(df, symbol_id)\n",
    "    X, y = prepare_regression_data(features, responders, target)\n",
    "\n",
    "    # Convert inputs to numpy arrays if they're pandas DataFrames\n",
    "    if isinstance(X, pd.DataFrame):\n",
    "        X = X.to_numpy()\n",
    "    if isinstance(y, pd.Series):\n",
    "        y = y.to_numpy()\n",
    "\n",
    "    # Train and evaluate model\n",
    "    model, X_train, X_test, y_train, y_test = train_best_xgboost_model(X, y)\n",
    "    evaluate_best_model(model, X_train, X_test, y_train, y_test)\n"
   ]
  },
  {
   "cell_type": "code",
   "execution_count": null,
   "metadata": {},
   "outputs": [],
   "source": [
    "from data_engineering import make_predictions\n",
    "\n",
    "if __name__ == \"__main__\":\n",
    "    # Load test data\n",
    "    features = pd.read_parquet(\"test.parquet/date_id=0/part-0.parquet\")\n",
    "    responders = pd.read_parquet(\"lags.parquet/date_id=0/part-0.parquet\")\n",
    "    \n",
    "    # Assuming we have a trained model\n",
    "    predictions = make_predictions(model, features, responders)"
   ]
  }
 ],
 "metadata": {
  "kernelspec": {
   "display_name": "Python3 (myenv)",
   "language": "python",
   "name": "myenv"
  },
  "language_info": {
   "codemirror_mode": {
    "name": "ipython",
    "version": 3
   },
   "file_extension": ".py",
   "mimetype": "text/x-python",
   "name": "python",
   "nbconvert_exporter": "python",
   "pygments_lexer": "ipython3",
   "version": "3.12.7"
  }
 },
 "nbformat": 4,
 "nbformat_minor": 2
}
