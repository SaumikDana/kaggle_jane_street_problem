{
 "cells": [
  {
   "cell_type": "code",
   "execution_count": null,
   "metadata": {},
   "outputs": [],
   "source": [
    "import pandas as pd\n",
    "from methods import train_best_xgboost_model, evaluate_best_model, create_timeseries_for_symbol, prepare_regression_data\n",
    "\n",
    "if __name__ == \"__main__\":\n",
    "    # Load and prepare data (with all features and responders)\n",
    "    df = pd.read_parquet(\"train.parquet/partition_id=0/part-0.parquet\")\n",
    "    list_of_symbols = df['symbol_id'].unique()\n",
    "\n",
    "    print(f\"\\n Total number of symbols (financial instruments) is {len(list_of_symbols)}\")\n",
    "    symbol_id = list_of_symbols[0]\n",
    "\n",
    "    for symbol_id in list_of_symbols:\n",
    "        print(f\"\\nTraining and Evaluating for symbol {symbol_id} ...\")\n",
    "        features, responders, target = create_timeseries_for_symbol(df, symbol_id)\n",
    "        X, y = prepare_regression_data(features, responders, target)\n",
    "        \n",
    "        # Train and evaluate model\n",
    "        model, X_train, X_test, y_train, y_test = train_best_xgboost_model(X, y)\n",
    "        evaluate_best_model(model, X_train, X_test, y_train, y_test)\n"
   ]
  },
  {
   "cell_type": "code",
   "execution_count": null,
   "metadata": {},
   "outputs": [],
   "source": [
    "from methods import make_predictions\n",
    "\n",
    "# Example usage\n",
    "if __name__ == \"__main__\":\n",
    "    # Load test data\n",
    "    features = pd.read_parquet(\"test.parquet/date_id=0/part-0.parquet\")\n",
    "    responders = pd.read_parquet(\"lags.parquet/date_id=0/part-0.parquet\")\n",
    "    \n",
    "    # Assuming we have a trained model\n",
    "    if 'model' in globals():  # Check if model exists\n",
    "        predictions = make_predictions(model, features, responders)\n",
    "    else:\n",
    "        print(\"\\nPlease ensure a trained model exists before running predictions\")"
   ]
  }
 ],
 "metadata": {
  "kernelspec": {
   "display_name": "Python3 (myenv)",
   "language": "python",
   "name": "myenv"
  },
  "language_info": {
   "codemirror_mode": {
    "name": "ipython",
    "version": 3
   },
   "file_extension": ".py",
   "mimetype": "text/x-python",
   "name": "python",
   "nbconvert_exporter": "python",
   "pygments_lexer": "ipython3",
   "version": "3.12.7"
  }
 },
 "nbformat": 4,
 "nbformat_minor": 2
}
