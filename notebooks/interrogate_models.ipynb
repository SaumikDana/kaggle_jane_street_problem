{
 "cells": [
  {
   "cell_type": "code",
   "execution_count": null,
   "metadata": {},
   "outputs": [],
   "source": [
    "import setup_path\n",
    "import pandas as pd\n",
    "import os\n",
    "from src.data_engineering import create_timeseries_for_symbol, prepare_regression_data, clean_data, prepare_prediction_data\n",
    "from src.pca import reduce_dimensions_pca\n",
    "from src.models import train_and_evaluate_multiple_models\n",
    "\n",
    "script_directory = os.getcwd()  # Gets the current working directory\n",
    "data_directory = os.path.join(script_directory, '..', 'data')\n",
    "\n",
    "n_partitions = 1 # For full data, n_partitions=10\n",
    "n_symbols = 1 # There are I think 39 symbols\n",
    "df_partition = {}\n",
    "\n",
    "for partition in range(n_partitions):\n",
    "\n",
    "    df_partition[partition] = pd.read_parquet(os.path.join(data_directory, f\"train_{partition}.parquet\"))\n",
    "\n",
    "for symbol_id in range(n_symbols):\n",
    "\n",
    "    print(f'\\nProcessing symbol {symbol_id} ...')\n",
    "\n",
    "    # Read and combine data for this symbol from all partitions\n",
    "    symbol_data = []\n",
    "\n",
    "    for partition in range(n_partitions):\n",
    "\n",
    "        df = df_partition[partition]\n",
    "        symbol_partition = df[df['symbol_id'] == symbol_id]\n",
    "\n",
    "        if not symbol_partition.empty:\n",
    "            symbol_data.append(symbol_partition)\n",
    "    \n",
    "    if symbol_data:\n",
    "\n",
    "        df_symbol = pd.concat(symbol_data, ignore_index=True)\n",
    "\n",
    "    features, responders, target = create_timeseries_for_symbol(df_symbol, symbol_id)\n",
    "\n",
    "    clean_features, clean_responders = clean_data(features, responders)\n",
    "\n",
    "    X, y = prepare_regression_data(clean_features, clean_responders, target=target)\n",
    "\n",
    "    # For specific number of components:\n",
    "    X_reduced, pca, scaler = reduce_dimensions_pca(X.values, n_components=25)\n",
    "\n",
    "    train_and_evaluate_multiple_models(X_reduced, y)\n"
   ]
  },
  {
   "cell_type": "code",
   "execution_count": null,
   "metadata": {},
   "outputs": [],
   "source": [
    "features = pd.read_parquet(os.path.join(data_directory, \"test.parquet\"))\n",
    "responders = pd.read_parquet(os.path.join(data_directory, \"lags.parquet\"))\n",
    "\n",
    "symbol_id = 0\n",
    "symbol_features = features[features['symbol_id'] == symbol_id].copy()\n",
    "symbol_responders = responders[responders['symbol_id'] == symbol_id].copy()\n",
    "\n",
    "X_test = prepare_prediction_data(symbol_features, symbol_responders)\n",
    "\n",
    "# In test:\n",
    "X_test_scaled = scaler.transform(X_test[X.columns].values)  # use training scaler\n",
    "X_test_reduced = pca.transform(X_test_scaled)  # use training PCA"
   ]
  }
 ],
 "metadata": {
  "kernelspec": {
   "display_name": "Python3 (myenv)",
   "language": "python",
   "name": "myenv"
  },
  "language_info": {
   "codemirror_mode": {
    "name": "ipython",
    "version": 3
   },
   "file_extension": ".py",
   "mimetype": "text/x-python",
   "name": "python",
   "nbconvert_exporter": "python",
   "pygments_lexer": "ipython3",
   "version": "3.12.7"
  }
 },
 "nbformat": 4,
 "nbformat_minor": 2
}
