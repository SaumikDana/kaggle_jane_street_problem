{
 "cells": [
  {
   "cell_type": "code",
   "execution_count": null,
   "metadata": {},
   "outputs": [],
   "source": [
    "import pandas as pd\n",
    "import os\n",
    "\n",
    "script_directory = os.getcwd()  # Gets the current working directory\n",
    "data_directory = os.path.join(script_directory, '..', 'data')\n",
    "\n",
    "features = pd.read_parquet(os.path.join(data_directory, \"test.parquet\"))\n",
    "responders = pd.read_parquet(os.path.join(data_directory, \"lags.parquet\"))\n",
    "\n",
    "# Basic information about the dataframes\n",
    "print(\"Features DataFrame Info:\")\n",
    "features.info()\n",
    "print(\"\\nResponders DataFrame Info:\")\n",
    "responders.info()\n",
    "\n",
    "# Check for missing values\n",
    "print(\"\\nMissing Values in Features Test:\")\n",
    "print(features.isnull().sum())\n",
    "\n",
    "print(\"\\nMissing Values in Responders Test:\")\n",
    "print(responders.isnull().sum())"
   ]
  }
 ],
 "metadata": {
  "kernelspec": {
   "display_name": "Python 3",
   "language": "python",
   "name": "python3"
  },
  "language_info": {
   "codemirror_mode": {
    "name": "ipython",
    "version": 3
   },
   "file_extension": ".py",
   "mimetype": "text/x-python",
   "name": "python",
   "nbconvert_exporter": "python",
   "pygments_lexer": "ipython3",
   "version": "3.12.9"
  }
 },
 "nbformat": 4,
 "nbformat_minor": 2
}
