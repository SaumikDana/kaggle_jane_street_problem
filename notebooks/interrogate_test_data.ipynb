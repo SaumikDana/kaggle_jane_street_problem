{
 "cells": [
  {
   "cell_type": "code",
   "execution_count": null,
   "metadata": {},
   "outputs": [],
   "source": [
    "import pandas as pd\n",
    "\n",
    "# Load test data\n",
    "features_test = pd.read_parquet('test.parquet/date_id=0/part-0.parquet')\n",
    "responders_test = pd.read_parquet('lags.parquet/date_id=0/part-0.parquet')\n",
    "\n",
    "# Basic information about the dataframes\n",
    "print(\"Features DataFrame Info:\")\n",
    "features_test.info()\n",
    "print(\"\\nResponders DataFrame Info:\")\n",
    "responders_test.info()\n",
    "\n",
    "# Check for missing values\n",
    "print(\"\\nMissing Values in Features Test:\")\n",
    "print(features_test.isnull().sum())\n",
    "print(\"\\nMissing Values in Responders Test:\")\n",
    "print(responders_test.isnull().sum())"
   ]
  }
 ],
 "metadata": {
  "kernelspec": {
   "display_name": "Python3 (myenv)",
   "language": "python",
   "name": "myenv"
  },
  "language_info": {
   "codemirror_mode": {
    "name": "ipython",
    "version": 3
   },
   "file_extension": ".py",
   "mimetype": "text/x-python",
   "name": "python",
   "nbconvert_exporter": "python",
   "pygments_lexer": "ipython3",
   "version": "3.12.7"
  }
 },
 "nbformat": 4,
 "nbformat_minor": 2
}
