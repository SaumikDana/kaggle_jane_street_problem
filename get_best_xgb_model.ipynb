{
 "cells": [
  {
   "cell_type": "code",
   "execution_count": null,
   "metadata": {},
   "outputs": [],
   "source": [
    "import pandas as pd\n",
    "from methods import create_timeseries_for_symbol, prepare_regression_data, tune_xgboost, evaluate_model\n",
    "from sklearn.model_selection import train_test_split\n",
    "\n",
    "def main():\n",
    "\n",
    "    # Load and prepare data (with all features and responders)\n",
    "    df = pd.read_parquet(\"train.parquet/partition_id=0/part-0.parquet\")\n",
    "    list_of_symbols = df['symbol_id'].unique()\n",
    "\n",
    "    print(f\"\\n Total number of symbols (financial instruments) is {len(list_of_symbols)}\")\n",
    "    symbol_id = list_of_symbols[0]\n",
    "\n",
    "    for symbol_id in list_of_symbols:\n",
    "        print(f\"\\nTraining and Evaluating for symbol {symbol_id} ...\")\n",
    "        features, responders, target = create_timeseries_for_symbol(df, symbol_id)\n",
    "        X, y = prepare_regression_data(features, responders, target)\n",
    "        \n",
    "        # Tune model\n",
    "        best_model = tune_xgboost(X, y)\n",
    "        \n",
    "        # Evaluate best model\n",
    "        X_train, X_test, y_train, y_test = train_test_split(X, y, test_size=0.2, random_state=42)\n",
    "        \n",
    "        evaluate_model(best_model, X_train, X_test, y_train, y_test)\n",
    "\n",
    "if __name__ == \"__main__\":\n",
    "\n",
    "    main()"
   ]
  }
 ],
 "metadata": {
  "kernelspec": {
   "display_name": "Python3 (myenv)",
   "language": "python",
   "name": "myenv"
  },
  "language_info": {
   "codemirror_mode": {
    "name": "ipython",
    "version": 3
   },
   "file_extension": ".py",
   "mimetype": "text/x-python",
   "name": "python",
   "nbconvert_exporter": "python",
   "pygments_lexer": "ipython3",
   "version": "3.12.7"
  }
 },
 "nbformat": 4,
 "nbformat_minor": 2
}
