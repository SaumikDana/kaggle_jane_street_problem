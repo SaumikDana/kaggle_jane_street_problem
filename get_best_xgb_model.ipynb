{
 "cells": [
  {
   "cell_type": "code",
   "execution_count": null,
   "metadata": {},
   "outputs": [],
   "source": [
    "import pandas as pd\n",
    "import os\n",
    "from methods import create_timeseries_for_symbol, prepare_regression_data, evaluate_model\n",
    "from tuning import tune_xgboost\n",
    "from sklearn.model_selection import train_test_split\n",
    "\n",
    "def main():\n",
    "\n",
    "    # Directory containing the symbol CSV files\n",
    "    symbol_data_dir = \"symbol_data\"\n",
    "    \n",
    "    # Loop through each CSV file in the directory\n",
    "    for csv_file in os.listdir(symbol_data_dir):\n",
    "        if csv_file.endswith('.csv'):\n",
    "            # Extract symbol_id from filename (assuming format \"symbol_X.csv\")\n",
    "            symbol_id = int(csv_file.split('_')[1].split('.')[0])\n",
    "            print(f\"\\nProcessing symbol {symbol_id}...\")\n",
    "            \n",
    "            # Load data for this symbol\n",
    "            csv_path = os.path.join(symbol_data_dir, csv_file)\n",
    "            df = pd.read_csv(csv_path)\n",
    "\n",
    "            print(f\"\\nTraining and Evaluating for symbol {symbol_id} ...\")\n",
    "            features, responders, target = create_timeseries_for_symbol(df, symbol_id)\n",
    "            X, y = prepare_regression_data(features, responders, target)\n",
    "\n",
    "            # Convert inputs to numpy arrays if they're pandas DataFrames\n",
    "            if isinstance(X, pd.DataFrame):\n",
    "                X = X.to_numpy()\n",
    "            if isinstance(y, pd.Series):\n",
    "                y = y.to_numpy()\n",
    "\n",
    "            # Tune model\n",
    "            best_model = tune_xgboost(X, y)\n",
    "            \n",
    "            # Evaluate best model\n",
    "            X_train, X_test, y_train, y_test = train_test_split(X, y, test_size=0.2, random_state=42)\n",
    "            \n",
    "            evaluate_model(best_model, X_train, X_test, y_train, y_test)\n",
    "\n",
    "if __name__ == \"__main__\":\n",
    "\n",
    "    main()"
   ]
  }
 ],
 "metadata": {
  "kernelspec": {
   "display_name": "Python3 (myenv)",
   "language": "python",
   "name": "myenv"
  },
  "language_info": {
   "codemirror_mode": {
    "name": "ipython",
    "version": 3
   },
   "file_extension": ".py",
   "mimetype": "text/x-python",
   "name": "python",
   "nbconvert_exporter": "python",
   "pygments_lexer": "ipython3",
   "version": "3.12.7"
  }
 },
 "nbformat": 4,
 "nbformat_minor": 2
}
